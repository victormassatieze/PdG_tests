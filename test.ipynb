{
 "cells": [
  {
   "attachments": {},
   "cell_type": "markdown",
   "metadata": {},
   "source": [
    "# Test procedure for phase reconstruction algorithms\n",
    "\n",
    "The goal of this test is to compare the results of the multiple iteractive algorithms implemented for the purpose of estimating the fase of modified magnitude spectograms and mapping them to coherent audio signals using Cost Function minimization. The algorithms implemented so far are the following:\n",
    "\n",
    "- Single resolution algorithms:\n",
    "    - The Griffin and Lim method (GL),\n",
    "    - Real-Time Spectogram Inversion (RTISI),\n",
    "    - Real-Time Spectogram Inversion with Look-Ahead (RTISI-LA).\n",
    "#\n",
    "- Multiple resolution algorithms:\n",
    "    - Combination of Total Squared Errors minimization (CTSE),\n",
    "    - Total Squared Error of Combination minimization (TSEC),\n",
    "    - Real-Time Spectogram Inversion derived from TSEC (RTISI-TSEC)."
   ]
  },
  {
   "cell_type": "code",
   "execution_count": null,
   "metadata": {},
   "outputs": [],
   "source": [
    "# Import dependencies\n",
    "from typing import Callable\n",
    "import numpy\n",
    "import librosa\n",
    "import matplotlib as plt\n",
    "import matlab.engine\n",
    "\n",
    "# Start MATLAB Engine for Python and set path appropriately\n",
    "eng = matlab.engine.start_matlab()\n",
    "eng.addpath(eng.genpath(\"Grading_methods\"))\n",
    "eng.addpath(eng.genpath(\"Combination_methods\"))"
   ]
  },
  {
   "attachments": {},
   "cell_type": "markdown",
   "metadata": {},
   "source": [
    "### 1. Defining the test procedure\n",
    "\n",
    "First, we define a test method to be called for each inversion algorithm."
   ]
  },
  {
   "cell_type": "code",
   "execution_count": null,
   "metadata": {},
   "outputs": [],
   "source": [
    "def test(method: Callable) -> dict:\n",
    "    test_result = {\"MSE\":\"\", \"SER\":\"\", \"SNR\":\"\", \"ODG\":\"\"}"
   ]
  },
  {
   "cell_type": "code",
   "execution_count": null,
   "metadata": {},
   "outputs": [],
   "source": [
    "# Run testing algorithms on Python-native SRes methods\n"
   ]
  },
  {
   "cell_type": "code",
   "execution_count": null,
   "metadata": {},
   "outputs": [],
   "source": [
    "# Run testing algorithms on MATLAB-native MRes methods\n"
   ]
  },
  {
   "cell_type": "code",
   "execution_count": null,
   "metadata": {},
   "outputs": [],
   "source": [
    "# Close MATLAB connection\n",
    "eng.quit()"
   ]
  }
 ],
 "metadata": {
  "kernelspec": {
   "display_name": "py39",
   "language": "python",
   "name": "python3"
  },
  "language_info": {
   "codemirror_mode": {
    "name": "ipython",
    "version": 3
   },
   "file_extension": ".py",
   "mimetype": "text/x-python",
   "name": "python",
   "nbconvert_exporter": "python",
   "pygments_lexer": "ipython3",
   "version": "3.9.16"
  },
  "orig_nbformat": 4
 },
 "nbformat": 4,
 "nbformat_minor": 2
}
